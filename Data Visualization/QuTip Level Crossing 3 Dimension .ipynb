{
 "cells": [
  {
   "cell_type": "code",
   "execution_count": 1,
   "metadata": {},
   "outputs": [],
   "source": [
    "from qutip import *\n",
    "import matplotlib.pyplot as plt\n",
    "from ipywidgets import interact, interactive, fixed, interact_manual\n",
    "import ipywidgets as widgets\n",
    "from sympy.interactive import printing\n",
    "import sympy as sp\n",
    "import numpy as np\n",
    "from mpl_toolkits.mplot3d import Axes3D\n",
    "import warnings\n",
    "warnings.filterwarnings('ignore')\n",
    "%matplotlib inline"
   ]
  },
  {
   "cell_type": "markdown",
   "metadata": {},
   "source": [
    "# Description of Code\n",
    "We take the Hamiltonian of the two-state system to be\n",
    "$$\\mathcal{H} = \\begin{pmatrix} \n",
    "E_1 & 0 & 0 & 0 \\\\ \n",
    "0 & E_2 & 0 & 0 \\\\\n",
    "0 & 0 & E_3 & 0 \\\\\n",
    "0 & 0 & 0 & E_4\n",
    "                 \\end{pmatrix}$$\n",
    "where $E_1$ represents the energy of the first state in the x-direction and $E_3$ represents the energy of that state in the y-direction. We take the norm of this quantity to be $E_+$. \n",
    "\n",
    "\n",
    "$E_2$ represents the energy of the second state in the x-direction and $E_4$ represents the energy of that state in the y-direction.We then take the norm of this quantity to be $E_-$.\n",
    "\n",
    "\n",
    "Then, we take the perturbation matrix to be \n",
    "$$ \\mathcal{P} = \\begin{pmatrix} \n",
    "0 & 0 & 0 &W_x \\\\\n",
    "0 & 0 & W_x^* & 0 \\\\\n",
    "0 & W_y & 0 &0 \\\\\n",
    "W_y^* & 0 & 0 & 0\\\\\n",
    "\\end{pmatrix}$$\n",
    "We assume that the work $W$ is only done on the off-diagonal direction.with $W_x$ being the work in the x-direction and $W_x^*$ being the conjugate of that work as well as $W_y$ being the work in the y-direction and $W_y^*$ being the conjugate of that work.\n",
    "\n",
    "The new hamiltonian would then be \n",
    "$$ \\mathcal{H_2} = \\mathcal{H} + \\mathcal{P} = \\begin{pmatrix} \n",
    "E_1 & 0 & 0 & 0 \\\\ \n",
    "0 & E_2 & 0 & 0 \\\\\n",
    "0 & 0 & E_3 & 0 \\\\\n",
    "0 & 0 & 0 & E_4\n",
    "                 \\end{pmatrix} + \\begin{pmatrix} \n",
    "0 & 0 & 0 &W_x \\\\\n",
    "0 & 0 & W_x^* & 0 \\\\\n",
    "0 & W_y & 0 &0 \\\\\n",
    "W_y^* & 0 & 0 & 0\\\\\n",
    "\\end{pmatrix}  = \\begin{pmatrix} \n",
    "E_1 & 0 & 0 & W_x \\\\ \n",
    "0 & E_2 & W_x^* & 0 \\\\\n",
    "0 & W_y & E_3 & 0 \\\\\n",
    "W_y^* & 0 & 0 & E_4\n",
    "                 \\end{pmatrix} $$\n",
    "                 \n",
    "Then, if we solve the matrix for the eigenvalues, we would get four eigenvalues $\\lambda_1, \\lambda_2, \\lambda_3, \\lambda_4$ for the new system. We would then be able to plot the energy with these eigenvalues against different values of $\\Delta E_x$ and $\\Delta E_y$ which generates the graph."
   ]
  },
  {
   "cell_type": "code",
   "execution_count": 12,
   "metadata": {},
   "outputs": [],
   "source": [
    "def hamPlot(Wx=0, Wy=0):\n",
    "    fig = plt.figure()\n",
    "    ax = fig.add_subplot(111, projection='3d')\n",
    "\n",
    "    P = np.array([[0, 0, 0, Wx],\n",
    "                  [0, 0, np.conjugate(Wx), 0],\n",
    "                  [0, Wy, 0, 0],\n",
    "                  [np.conjugate(Wy), 0, 0, 0]], dtype=\"complex\")\n",
    "    Qobj(P)\n",
    "\n",
    "    Eplus = []\n",
    "    Eminus = []\n",
    "\n",
    "    tracker = 0\n",
    "    x, y = np.meshgrid(np.linspace(-5, 5, 35), np.linspace(-5, 5, 35))\n",
    "    \n",
    "    labelled = False\n",
    "    for i in x:\n",
    "        for j in y:\n",
    "            for l in range(len(i)):\n",
    "                E1 = i[l]\n",
    "                E2 = -i[l]\n",
    "                E3 = j[l]\n",
    "                E4 = -j[l]\n",
    "                H = np.array([[E1, 0, 0, 0],\n",
    "                              [0, E2, 0, 0],\n",
    "                              [0, 0, E3, 0],\n",
    "                              [0, 0, 0, E4]], dtype=\"complex\")\n",
    "                Qobj(H)\n",
    "                H2 = Qobj(H + P)\n",
    "\n",
    "                Eplus.append(np.linalg.norm([H2.eigenstates()[0][0] , H2.eigenstates()[0][2]]))\n",
    "                Eminus.append(-1 * np.linalg.norm([H2.eigenstates()[0][1] , H2.eigenstates()[0][3]]))\n",
    "            if not labelled: \n",
    "                ax.plot(i, j, Eplus, color=\"orange\", label = r\"E_+\")\n",
    "                ax.plot(i, j, Eminus, color=\"blue\",label = r\"E_-\")\n",
    "                labelled = True\n",
    "            else: \n",
    "                ax.plot(i, j, Eplus, color=\"orange\")\n",
    "                ax.plot(i, j, Eminus, color=\"blue\")                \n",
    "            ax.set_xlabel(r\"$\\Delta E_x$\")\n",
    "            ax.set_ylabel(r\"$\\Delta E_y$\")\n",
    "            \n",
    "            ax.legend()\n",
    "            Eplus = []\n",
    "            Eminus = []"
   ]
  },
  {
   "cell_type": "code",
   "execution_count": 13,
   "metadata": {},
   "outputs": [
    {
     "data": {
      "application/vnd.jupyter.widget-view+json": {
       "model_id": "03f951ee80ac47fdaadf44a1765d7fe1",
       "version_major": 2,
       "version_minor": 0
      },
      "text/plain": [
       "interactive(children=(IntSlider(value=0, description='Wx', max=20), IntSlider(value=0, description='Wy', max=2…"
      ]
     },
     "metadata": {},
     "output_type": "display_data"
    }
   ],
   "source": [
    "interactive_plot = interactive(hamPlot, Wx =(0, 20), Wy = (0,20))\n",
    "output = interactive_plot.children[-1]\n",
    "interactive_plot"
   ]
  },
  {
   "cell_type": "code",
   "execution_count": null,
   "metadata": {},
   "outputs": [],
   "source": []
  },
  {
   "cell_type": "code",
   "execution_count": null,
   "metadata": {},
   "outputs": [],
   "source": []
  }
 ],
 "metadata": {
  "kernelspec": {
   "display_name": "Python 3",
   "language": "python",
   "name": "python3"
  },
  "language_info": {
   "codemirror_mode": {
    "name": "ipython",
    "version": 3
   },
   "file_extension": ".py",
   "mimetype": "text/x-python",
   "name": "python",
   "nbconvert_exporter": "python",
   "pygments_lexer": "ipython3",
   "version": "3.7.3"
  }
 },
 "nbformat": 4,
 "nbformat_minor": 2
}
